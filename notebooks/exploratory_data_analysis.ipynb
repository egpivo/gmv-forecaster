{
 "cells": [
  {
   "cell_type": "markdown",
   "metadata": {
    "slideshow": {
     "slide_type": "slide"
    }
   },
   "source": [
    "# Exploratory Data Analysis"
   ]
  },
  {
   "cell_type": "markdown",
   "metadata": {
    "pycharm": {
     "name": "#%% md\n"
    },
    "slideshow": {
     "slide_type": "skip"
    }
   },
   "source": [
    "### Basic Setting"
   ]
  },
  {
   "cell_type": "code",
   "execution_count": 5,
   "metadata": {
    "pycharm": {
     "name": "#%%\n"
    },
    "slideshow": {
     "slide_type": "skip"
    }
   },
   "outputs": [],
   "source": [
    "import copy\n",
    "import warnings\n",
    "\n",
    "import matplotlib.pyplot as plt\n",
    "import numpy as np\n",
    "import pandas as pd\n",
    "from forecaster.plot import create_scatter_plot_matrix, create_bar_plot\n",
    "from dython.nominal import associations\n",
    "from sklearn.model_selection import train_test_split\n",
    "from sklearn import metrics\n",
    "from sklearn.preprocessing import LabelEncoder\n",
    "import seaborn as sns\n",
    "\n",
    "\n",
    "warnings.filterwarnings(\"ignore\")\n"
   ]
  },
  {
   "cell_type": "markdown",
   "metadata": {
    "slideshow": {
     "slide_type": "slide"
    }
   },
   "source": [
    "## Problem Statement\n",
    "- ML problem: predict the GMV\n",
    "\n",
    "    $$y = f(x_1, \\dots, x_p) + \\epsilon$$\n",
    "    - $y$: gmv\n",
    "    - $x_1, \\dots, x_p$: $p$ features, e.g.,\n",
    "        - Original: `Value of the order in GBP`, `Number of items in the order`, `Country`, `City`, `Type of food`\n",
    "        - Extended: `day of week`, `event hour`\n",
    "    - $\\epsilon$: noise\n",
    "    - $f$: unknown function\n",
    "        - i.e., this is a regresion problem"
   ]
  },
  {
   "cell_type": "markdown",
   "metadata": {
    "slideshow": {
     "slide_type": "subslide"
    }
   },
   "source": [
    "### Outline\n",
    "- Raw Data Preparation\n",
    "- Exploratory Data Analysis\n",
    "- Modeling\n",
    "- Furture work\n"
   ]
  },
  {
   "cell_type": "markdown",
   "metadata": {
    "slideshow": {
     "slide_type": "slide"
    }
   },
   "source": [
    "## Raw Data Preparation"
   ]
  },
  {
   "cell_type": "markdown",
   "metadata": {
    "pycharm": {
     "name": "#%% md\n"
    },
    "slideshow": {
     "slide_type": "subslide"
    }
   },
   "source": [
    "### Data loading"
   ]
  },
  {
   "cell_type": "code",
   "execution_count": 6,
   "metadata": {
    "pycharm": {
     "name": "#%%\n"
    },
    "slideshow": {
     "slide_type": "fragment"
    }
   },
   "outputs": [
    {
     "name": "stdout",
     "output_type": "stream",
     "text": [
      "Users -\n",
      " columns: ['user_id', 'gender', 'age'];\n",
      " shape: (9961, 3)\n",
      "Transactions -\n",
      " columns: ['id', 'user_id', 'store_id', 'event_occurrence', 'amount'];\n",
      " shape: (1582260, 5)\n",
      "Stores -\n",
      " columns: ['store_id', 'nam', 'laa', 'category', 'lat', 'lon'];\n",
      " shape: (99991, 6)\n"
     ]
    }
   ],
   "source": [
    "users_pdf = pd.read_csv(\"../data/users.csv\").rename({\"id\": \"user_id\"}, axis=1)\n",
    "trasactions_pdf = pd.read_csv(\"../data/transactions.csv\", parse_dates=[\"event_occurrence\"])\n",
    "stores_pdf = pd.read_csv(\"../data/stores.csv\").rename({\"id\": \"store_id\"}, axis=1)\n",
    "\n",
    "print(f\"Users -\\n columns: {list(users_pdf.columns)};\\n shape: {users_pdf.shape}\")\n",
    "print(\n",
    "    f\"Transactions -\\n columns: {list(trasactions_pdf.columns)};\\n shape: {trasactions_pdf.shape}\"\n",
    ")\n",
    "print(f\"Stores -\\n columns: {list(stores_pdf.columns)};\\n shape: {stores_pdf.shape}\")\n"
   ]
  },
  {
   "cell_type": "code",
   "execution_count": 7,
   "metadata": {},
   "outputs": [],
   "source": [
    "# pre-condition\n",
    "assert users_pdf.user_id.is_unique, f\"There are duplicate user ids; please check\"\n",
    "assert trasactions_pdf.id.is_unique, f\"There are duplicate transaction ids; please check\"\n",
    "assert stores_pdf.store_id.is_unique, f\"There are duplicate store ids; please check\"\n",
    "\n",
    "added_user_to_transactions_pdf = pd.merge(trasactions_pdf, users_pdf, on=[\"user_id\"], how=\"left\")\n",
    "user_store_transactions_pdf = pd.merge(\n",
    "    added_user_to_transactions_pdf, stores_pdf, on=[\"store_id\"], how=\"left\"\n",
    ")\n",
    "\n",
    "# post-condition\n",
    "assert (\n",
    "    user_store_transactions_pdf.shape[0] == trasactions_pdf.shape[0]\n",
    "), \"Inconsistent row count. Please check the join process\"\n"
   ]
  },
  {
   "cell_type": "code",
   "execution_count": 8,
   "metadata": {},
   "outputs": [
    {
     "data": {
      "text/html": [
       "<div>\n",
       "<style scoped>\n",
       "    .dataframe tbody tr th:only-of-type {\n",
       "        vertical-align: middle;\n",
       "    }\n",
       "\n",
       "    .dataframe tbody tr th {\n",
       "        vertical-align: top;\n",
       "    }\n",
       "\n",
       "    .dataframe thead th {\n",
       "        text-align: right;\n",
       "    }\n",
       "</style>\n",
       "<table border=\"1\" class=\"dataframe\">\n",
       "  <thead>\n",
       "    <tr style=\"text-align: right;\">\n",
       "      <th></th>\n",
       "      <th>id</th>\n",
       "      <th>user_id</th>\n",
       "      <th>store_id</th>\n",
       "      <th>event_occurrence</th>\n",
       "      <th>amount</th>\n",
       "      <th>gender</th>\n",
       "      <th>age</th>\n",
       "      <th>nam</th>\n",
       "      <th>laa</th>\n",
       "      <th>category</th>\n",
       "      <th>lat</th>\n",
       "      <th>lon</th>\n",
       "    </tr>\n",
       "  </thead>\n",
       "  <tbody>\n",
       "    <tr>\n",
       "      <th>0</th>\n",
       "      <td>a555eb55-1da4-6087-b5ab-06b35b608002</td>\n",
       "      <td>93098549-3ff0-e579-01c3-df9183278f64</td>\n",
       "      <td>a3c7874b-75df-9cf2-62ab-cf58be5d9e0e</td>\n",
       "      <td>2020-01-01 06:40:43.323987</td>\n",
       "      <td>315</td>\n",
       "      <td>M</td>\n",
       "      <td>88.0</td>\n",
       "      <td>Saitama Ken</td>\n",
       "      <td>Soka Shi</td>\n",
       "      <td>コンビニ</td>\n",
       "      <td>35.830649</td>\n",
       "      <td>139.809781</td>\n",
       "    </tr>\n",
       "    <tr>\n",
       "      <th>1</th>\n",
       "      <td>f699b867-e70c-5160-90c8-7dfa32dce0da</td>\n",
       "      <td>35ba9da1-98d0-cbb7-7844-e648601b7208</td>\n",
       "      <td>1d59adf3-94f2-f5f8-46c6-8558c544a3a9</td>\n",
       "      <td>2020-01-01 07:04:25.968615</td>\n",
       "      <td>1646</td>\n",
       "      <td>M</td>\n",
       "      <td>44.0</td>\n",
       "      <td>Gunma Ken</td>\n",
       "      <td>Meiwa Cho</td>\n",
       "      <td>ショッピング</td>\n",
       "      <td>36.216801</td>\n",
       "      <td>139.562541</td>\n",
       "    </tr>\n",
       "    <tr>\n",
       "      <th>2</th>\n",
       "      <td>5c3f8abc-f4e6-94fd-7b13-fe0efd4e4591</td>\n",
       "      <td>63cb5ee0-a457-9975-5455-4d76109bc754</td>\n",
       "      <td>c835f09d-ac5b-2005-1959-f452456a746a</td>\n",
       "      <td>2020-01-01 07:06:16.164563</td>\n",
       "      <td>385</td>\n",
       "      <td>M</td>\n",
       "      <td>16.0</td>\n",
       "      <td>Hiroshima Ken</td>\n",
       "      <td>Fukuyama Shi</td>\n",
       "      <td>コンビニ</td>\n",
       "      <td>34.642260</td>\n",
       "      <td>133.257595</td>\n",
       "    </tr>\n",
       "  </tbody>\n",
       "</table>\n",
       "</div>"
      ],
      "text/plain": [
       "                                     id                               user_id  \\\n",
       "0  a555eb55-1da4-6087-b5ab-06b35b608002  93098549-3ff0-e579-01c3-df9183278f64   \n",
       "1  f699b867-e70c-5160-90c8-7dfa32dce0da  35ba9da1-98d0-cbb7-7844-e648601b7208   \n",
       "2  5c3f8abc-f4e6-94fd-7b13-fe0efd4e4591  63cb5ee0-a457-9975-5455-4d76109bc754   \n",
       "\n",
       "                               store_id           event_occurrence  amount  \\\n",
       "0  a3c7874b-75df-9cf2-62ab-cf58be5d9e0e 2020-01-01 06:40:43.323987     315   \n",
       "1  1d59adf3-94f2-f5f8-46c6-8558c544a3a9 2020-01-01 07:04:25.968615    1646   \n",
       "2  c835f09d-ac5b-2005-1959-f452456a746a 2020-01-01 07:06:16.164563     385   \n",
       "\n",
       "  gender   age            nam           laa category        lat         lon  \n",
       "0      M  88.0    Saitama Ken      Soka Shi     コンビニ  35.830649  139.809781  \n",
       "1      M  44.0      Gunma Ken     Meiwa Cho   ショッピング  36.216801  139.562541  \n",
       "2      M  16.0  Hiroshima Ken  Fukuyama Shi     コンビニ  34.642260  133.257595  "
      ]
     },
     "execution_count": 8,
     "metadata": {},
     "output_type": "execute_result"
    }
   ],
   "source": [
    "user_store_transactions_pdf.head(3)\n"
   ]
  },
  {
   "cell_type": "code",
   "execution_count": 9,
   "metadata": {
    "pycharm": {
     "name": "#%%\n"
    },
    "slideshow": {
     "slide_type": "fragment"
    }
   },
   "outputs": [
    {
     "data": {
      "text/plain": [
       "id                          object\n",
       "user_id                     object\n",
       "store_id                    object\n",
       "event_occurrence    datetime64[ns]\n",
       "amount                       int64\n",
       "gender                      object\n",
       "age                        float64\n",
       "nam                         object\n",
       "laa                         object\n",
       "category                    object\n",
       "lat                        float64\n",
       "lon                        float64\n",
       "dtype: object"
      ]
     },
     "execution_count": 9,
     "metadata": {},
     "output_type": "execute_result"
    }
   ],
   "source": [
    "user_store_transactions_pdf.dtypes\n"
   ]
  },
  {
   "cell_type": "markdown",
   "metadata": {
    "slideshow": {
     "slide_type": "skip"
    }
   },
   "source": [
    "### Data Column Setting"
   ]
  },
  {
   "cell_type": "code",
   "execution_count": 10,
   "metadata": {
    "pycharm": {
     "name": "#%%\n"
    },
    "slideshow": {
     "slide_type": "skip"
    }
   },
   "outputs": [],
   "source": [
    "target_col = \"amont\"\n",
    "categorical_cols = [\"gender\", \"nam\", \"laa\", \"category\"]\n",
    "numerical_cols = [\"age\", \"lat\", \"lon\"]\n",
    "time_cols = [\"order_acknowledged_at\", \"order_ready_at\"]\n"
   ]
  },
  {
   "cell_type": "markdown",
   "metadata": {
    "slideshow": {
     "slide_type": "subslide"
    }
   },
   "source": [
    "### Missing Value Detection\n",
    "- Conclusion: there are no missing values in the dataframe"
   ]
  },
  {
   "cell_type": "code",
   "execution_count": 11,
   "metadata": {
    "pycharm": {
     "name": "#%%\n"
    },
    "slideshow": {
     "slide_type": "fragment"
    }
   },
   "outputs": [
    {
     "data": {
      "text/plain": [
       "id                       0\n",
       "user_id                  0\n",
       "store_id                 0\n",
       "event_occurrence         0\n",
       "amount                   0\n",
       "gender              160282\n",
       "age                  76646\n",
       "nam                      0\n",
       "laa                      0\n",
       "category                 0\n",
       "lat                      0\n",
       "lon                      0\n",
       "dtype: int64"
      ]
     },
     "execution_count": 11,
     "metadata": {},
     "output_type": "execute_result"
    }
   ],
   "source": [
    "user_store_transactions_pdf.isnull().sum()\n"
   ]
  },
  {
   "cell_type": "markdown",
   "metadata": {
    "slideshow": {
     "slide_type": "subslide"
    }
   },
   "source": [
    "### Anomaly Detection\n",
    "- Check the range and dispersion of three numerical variables\n",
    "  - must be positive\n",
    "      - See `min` in summary statistics)\n",
    "  - Dispersion\n",
    "      - See `std` in summary statistics\n",
    "      - See `IQR = Q3(75%) - Q1(25%)` in summary statistics\n",
    "      - See boxplot"
   ]
  },
  {
   "cell_type": "markdown",
   "metadata": {
    "slideshow": {
     "slide_type": "subslide"
    }
   },
   "source": [
    "#### Summary Statistics\n",
    "- There are no absolutely incorrect observations based on the definition of the variables. (i.e., positive numeric)\n",
    "- For `prep_time_seconds`, its standard deviation is way larger than its mean, i.e.,\n",
    "    - its mean would not be an appropriate centrality parameter\n",
    "    - Should find the robust parameter or transformation before modeling"
   ]
  },
  {
   "cell_type": "code",
   "execution_count": 12,
   "metadata": {
    "pycharm": {
     "name": "#%%\n"
    },
    "slideshow": {
     "slide_type": "fragment"
    }
   },
   "outputs": [
    {
     "data": {
      "text/html": [
       "<div>\n",
       "<style scoped>\n",
       "    .dataframe tbody tr th:only-of-type {\n",
       "        vertical-align: middle;\n",
       "    }\n",
       "\n",
       "    .dataframe tbody tr th {\n",
       "        vertical-align: top;\n",
       "    }\n",
       "\n",
       "    .dataframe thead th {\n",
       "        text-align: right;\n",
       "    }\n",
       "</style>\n",
       "<table border=\"1\" class=\"dataframe\">\n",
       "  <thead>\n",
       "    <tr style=\"text-align: right;\">\n",
       "      <th></th>\n",
       "      <th>event_occurrence</th>\n",
       "      <th>amount</th>\n",
       "      <th>age</th>\n",
       "      <th>lat</th>\n",
       "      <th>lon</th>\n",
       "    </tr>\n",
       "  </thead>\n",
       "  <tbody>\n",
       "    <tr>\n",
       "      <th>count</th>\n",
       "      <td>1582260</td>\n",
       "      <td>1.582260e+06</td>\n",
       "      <td>1.505614e+06</td>\n",
       "      <td>1.582260e+06</td>\n",
       "      <td>1.582260e+06</td>\n",
       "    </tr>\n",
       "    <tr>\n",
       "      <th>mean</th>\n",
       "      <td>2021-03-09 20:10:11.647041792</td>\n",
       "      <td>1.703913e+03</td>\n",
       "      <td>5.001282e+01</td>\n",
       "      <td>3.553551e+01</td>\n",
       "      <td>1.370689e+02</td>\n",
       "    </tr>\n",
       "    <tr>\n",
       "      <th>min</th>\n",
       "      <td>2020-01-01 06:40:43.323987</td>\n",
       "      <td>2.000000e+00</td>\n",
       "      <td>1.500000e+01</td>\n",
       "      <td>2.435114e+01</td>\n",
       "      <td>1.238093e+02</td>\n",
       "    </tr>\n",
       "    <tr>\n",
       "      <th>25%</th>\n",
       "      <td>2020-10-02 14:56:01.994850304</td>\n",
       "      <td>3.320000e+02</td>\n",
       "      <td>3.400000e+01</td>\n",
       "      <td>3.467408e+01</td>\n",
       "      <td>1.353256e+02</td>\n",
       "    </tr>\n",
       "    <tr>\n",
       "      <th>50%</th>\n",
       "      <td>2021-04-09 10:58:40.814747136</td>\n",
       "      <td>7.320000e+02</td>\n",
       "      <td>4.900000e+01</td>\n",
       "      <td>3.538779e+01</td>\n",
       "      <td>1.379939e+02</td>\n",
       "    </tr>\n",
       "    <tr>\n",
       "      <th>75%</th>\n",
       "      <td>2021-09-06 10:53:09.993888768</td>\n",
       "      <td>1.675000e+03</td>\n",
       "      <td>6.500000e+01</td>\n",
       "      <td>3.586862e+01</td>\n",
       "      <td>1.397033e+02</td>\n",
       "    </tr>\n",
       "    <tr>\n",
       "      <th>max</th>\n",
       "      <td>2021-12-31 17:09:49.237044</td>\n",
       "      <td>1.883119e+06</td>\n",
       "      <td>9.000000e+01</td>\n",
       "      <td>4.543397e+01</td>\n",
       "      <td>1.461748e+02</td>\n",
       "    </tr>\n",
       "    <tr>\n",
       "      <th>std</th>\n",
       "      <td>NaN</td>\n",
       "      <td>5.361803e+03</td>\n",
       "      <td>1.911783e+01</td>\n",
       "      <td>2.194248e+00</td>\n",
       "      <td>3.368230e+00</td>\n",
       "    </tr>\n",
       "  </tbody>\n",
       "</table>\n",
       "</div>"
      ],
      "text/plain": [
       "                    event_occurrence        amount           age  \\\n",
       "count                        1582260  1.582260e+06  1.505614e+06   \n",
       "mean   2021-03-09 20:10:11.647041792  1.703913e+03  5.001282e+01   \n",
       "min       2020-01-01 06:40:43.323987  2.000000e+00  1.500000e+01   \n",
       "25%    2020-10-02 14:56:01.994850304  3.320000e+02  3.400000e+01   \n",
       "50%    2021-04-09 10:58:40.814747136  7.320000e+02  4.900000e+01   \n",
       "75%    2021-09-06 10:53:09.993888768  1.675000e+03  6.500000e+01   \n",
       "max       2021-12-31 17:09:49.237044  1.883119e+06  9.000000e+01   \n",
       "std                              NaN  5.361803e+03  1.911783e+01   \n",
       "\n",
       "                lat           lon  \n",
       "count  1.582260e+06  1.582260e+06  \n",
       "mean   3.553551e+01  1.370689e+02  \n",
       "min    2.435114e+01  1.238093e+02  \n",
       "25%    3.467408e+01  1.353256e+02  \n",
       "50%    3.538779e+01  1.379939e+02  \n",
       "75%    3.586862e+01  1.397033e+02  \n",
       "max    4.543397e+01  1.461748e+02  \n",
       "std    2.194248e+00  3.368230e+00  "
      ]
     },
     "execution_count": 12,
     "metadata": {},
     "output_type": "execute_result"
    }
   ],
   "source": [
    "user_store_transactions_pdf.describe()\n"
   ]
  },
  {
   "cell_type": "markdown",
   "metadata": {
    "slideshow": {
     "slide_type": "subslide"
    }
   },
   "source": [
    "#### Skewness of numerical variables\n",
    "- `prep_time_seconds`'s skewness is the largest\n",
    "- The distributions of the variables are right-skewed"
   ]
  },
  {
   "cell_type": "code",
   "execution_count": 17,
   "metadata": {
    "pycharm": {
     "name": "#%%\n"
    },
    "slideshow": {
     "slide_type": "fragment"
    }
   },
   "outputs": [
    {
     "ename": "TypeError",
     "evalue": "'DatetimeArray' with dtype datetime64[ns] does not support reduction 'skew'",
     "output_type": "error",
     "traceback": [
      "\u001b[0;31m---------------------------------------------------------------------------\u001b[0m",
      "\u001b[0;31mTypeError\u001b[0m                                 Traceback (most recent call last)",
      "Cell \u001b[0;32mIn[17], line 1\u001b[0m\n\u001b[0;32m----> 1\u001b[0m \u001b[43muser_store_transactions_pdf\u001b[49m\u001b[38;5;241;43m.\u001b[39;49m\u001b[43mskew\u001b[49m\u001b[43m(\u001b[49m\u001b[43m)\u001b[49m\n",
      "File \u001b[0;32m~/miniconda3/envs/forecaster/lib/python3.12/site-packages/pandas/core/frame.py:11748\u001b[0m, in \u001b[0;36mDataFrame.skew\u001b[0;34m(self, axis, skipna, numeric_only, **kwargs)\u001b[0m\n\u001b[1;32m  11740\u001b[0m \u001b[38;5;129m@doc\u001b[39m(make_doc(\u001b[38;5;124m\"\u001b[39m\u001b[38;5;124mskew\u001b[39m\u001b[38;5;124m\"\u001b[39m, ndim\u001b[38;5;241m=\u001b[39m\u001b[38;5;241m2\u001b[39m))\n\u001b[1;32m  11741\u001b[0m \u001b[38;5;28;01mdef\u001b[39;00m \u001b[38;5;21mskew\u001b[39m(\n\u001b[1;32m  11742\u001b[0m     \u001b[38;5;28mself\u001b[39m,\n\u001b[0;32m   (...)\u001b[0m\n\u001b[1;32m  11746\u001b[0m     \u001b[38;5;241m*\u001b[39m\u001b[38;5;241m*\u001b[39mkwargs,\n\u001b[1;32m  11747\u001b[0m ):\n\u001b[0;32m> 11748\u001b[0m     result \u001b[38;5;241m=\u001b[39m \u001b[38;5;28;43msuper\u001b[39;49m\u001b[43m(\u001b[49m\u001b[43m)\u001b[49m\u001b[38;5;241;43m.\u001b[39;49m\u001b[43mskew\u001b[49m\u001b[43m(\u001b[49m\u001b[43maxis\u001b[49m\u001b[43m,\u001b[49m\u001b[43m \u001b[49m\u001b[43mskipna\u001b[49m\u001b[43m,\u001b[49m\u001b[43m \u001b[49m\u001b[43mnumeric_only\u001b[49m\u001b[43m,\u001b[49m\u001b[43m \u001b[49m\u001b[38;5;241;43m*\u001b[39;49m\u001b[38;5;241;43m*\u001b[39;49m\u001b[43mkwargs\u001b[49m\u001b[43m)\u001b[49m\n\u001b[1;32m  11749\u001b[0m     \u001b[38;5;28;01mif\u001b[39;00m \u001b[38;5;28misinstance\u001b[39m(result, Series):\n\u001b[1;32m  11750\u001b[0m         result \u001b[38;5;241m=\u001b[39m result\u001b[38;5;241m.\u001b[39m__finalize__(\u001b[38;5;28mself\u001b[39m, method\u001b[38;5;241m=\u001b[39m\u001b[38;5;124m\"\u001b[39m\u001b[38;5;124mskew\u001b[39m\u001b[38;5;124m\"\u001b[39m)\n",
      "File \u001b[0;32m~/miniconda3/envs/forecaster/lib/python3.12/site-packages/pandas/core/generic.py:12439\u001b[0m, in \u001b[0;36mNDFrame.skew\u001b[0;34m(self, axis, skipna, numeric_only, **kwargs)\u001b[0m\n\u001b[1;32m  12432\u001b[0m \u001b[38;5;28;01mdef\u001b[39;00m \u001b[38;5;21mskew\u001b[39m(\n\u001b[1;32m  12433\u001b[0m     \u001b[38;5;28mself\u001b[39m,\n\u001b[1;32m  12434\u001b[0m     axis: Axis \u001b[38;5;241m|\u001b[39m \u001b[38;5;28;01mNone\u001b[39;00m \u001b[38;5;241m=\u001b[39m \u001b[38;5;241m0\u001b[39m,\n\u001b[0;32m   (...)\u001b[0m\n\u001b[1;32m  12437\u001b[0m     \u001b[38;5;241m*\u001b[39m\u001b[38;5;241m*\u001b[39mkwargs,\n\u001b[1;32m  12438\u001b[0m ) \u001b[38;5;241m-\u001b[39m\u001b[38;5;241m>\u001b[39m Series \u001b[38;5;241m|\u001b[39m \u001b[38;5;28mfloat\u001b[39m:\n\u001b[0;32m> 12439\u001b[0m     \u001b[38;5;28;01mreturn\u001b[39;00m \u001b[38;5;28;43mself\u001b[39;49m\u001b[38;5;241;43m.\u001b[39;49m\u001b[43m_stat_function\u001b[49m\u001b[43m(\u001b[49m\n\u001b[1;32m  12440\u001b[0m \u001b[43m        \u001b[49m\u001b[38;5;124;43m\"\u001b[39;49m\u001b[38;5;124;43mskew\u001b[39;49m\u001b[38;5;124;43m\"\u001b[39;49m\u001b[43m,\u001b[49m\u001b[43m \u001b[49m\u001b[43mnanops\u001b[49m\u001b[38;5;241;43m.\u001b[39;49m\u001b[43mnanskew\u001b[49m\u001b[43m,\u001b[49m\u001b[43m \u001b[49m\u001b[43maxis\u001b[49m\u001b[43m,\u001b[49m\u001b[43m \u001b[49m\u001b[43mskipna\u001b[49m\u001b[43m,\u001b[49m\u001b[43m \u001b[49m\u001b[43mnumeric_only\u001b[49m\u001b[43m,\u001b[49m\u001b[43m \u001b[49m\u001b[38;5;241;43m*\u001b[39;49m\u001b[38;5;241;43m*\u001b[39;49m\u001b[43mkwargs\u001b[49m\n\u001b[1;32m  12441\u001b[0m \u001b[43m    \u001b[49m\u001b[43m)\u001b[49m\n",
      "File \u001b[0;32m~/miniconda3/envs/forecaster/lib/python3.12/site-packages/pandas/core/generic.py:12374\u001b[0m, in \u001b[0;36mNDFrame._stat_function\u001b[0;34m(self, name, func, axis, skipna, numeric_only, **kwargs)\u001b[0m\n\u001b[1;32m  12370\u001b[0m nv\u001b[38;5;241m.\u001b[39mvalidate_func(name, (), kwargs)\n\u001b[1;32m  12372\u001b[0m validate_bool_kwarg(skipna, \u001b[38;5;124m\"\u001b[39m\u001b[38;5;124mskipna\u001b[39m\u001b[38;5;124m\"\u001b[39m, none_allowed\u001b[38;5;241m=\u001b[39m\u001b[38;5;28;01mFalse\u001b[39;00m)\n\u001b[0;32m> 12374\u001b[0m \u001b[38;5;28;01mreturn\u001b[39;00m \u001b[38;5;28;43mself\u001b[39;49m\u001b[38;5;241;43m.\u001b[39;49m\u001b[43m_reduce\u001b[49m\u001b[43m(\u001b[49m\n\u001b[1;32m  12375\u001b[0m \u001b[43m    \u001b[49m\u001b[43mfunc\u001b[49m\u001b[43m,\u001b[49m\u001b[43m \u001b[49m\u001b[43mname\u001b[49m\u001b[38;5;241;43m=\u001b[39;49m\u001b[43mname\u001b[49m\u001b[43m,\u001b[49m\u001b[43m \u001b[49m\u001b[43maxis\u001b[49m\u001b[38;5;241;43m=\u001b[39;49m\u001b[43maxis\u001b[49m\u001b[43m,\u001b[49m\u001b[43m \u001b[49m\u001b[43mskipna\u001b[49m\u001b[38;5;241;43m=\u001b[39;49m\u001b[43mskipna\u001b[49m\u001b[43m,\u001b[49m\u001b[43m \u001b[49m\u001b[43mnumeric_only\u001b[49m\u001b[38;5;241;43m=\u001b[39;49m\u001b[43mnumeric_only\u001b[49m\n\u001b[1;32m  12376\u001b[0m \u001b[43m\u001b[49m\u001b[43m)\u001b[49m\n",
      "File \u001b[0;32m~/miniconda3/envs/forecaster/lib/python3.12/site-packages/pandas/core/frame.py:11549\u001b[0m, in \u001b[0;36mDataFrame._reduce\u001b[0;34m(self, op, name, axis, skipna, numeric_only, filter_type, **kwds)\u001b[0m\n\u001b[1;32m  11545\u001b[0m     df \u001b[38;5;241m=\u001b[39m df\u001b[38;5;241m.\u001b[39mT\n\u001b[1;32m  11547\u001b[0m \u001b[38;5;66;03m# After possibly _get_data and transposing, we are now in the\u001b[39;00m\n\u001b[1;32m  11548\u001b[0m \u001b[38;5;66;03m#  simple case where we can use BlockManager.reduce\u001b[39;00m\n\u001b[0;32m> 11549\u001b[0m res \u001b[38;5;241m=\u001b[39m \u001b[43mdf\u001b[49m\u001b[38;5;241;43m.\u001b[39;49m\u001b[43m_mgr\u001b[49m\u001b[38;5;241;43m.\u001b[39;49m\u001b[43mreduce\u001b[49m\u001b[43m(\u001b[49m\u001b[43mblk_func\u001b[49m\u001b[43m)\u001b[49m\n\u001b[1;32m  11550\u001b[0m out \u001b[38;5;241m=\u001b[39m df\u001b[38;5;241m.\u001b[39m_constructor_from_mgr(res, axes\u001b[38;5;241m=\u001b[39mres\u001b[38;5;241m.\u001b[39maxes)\u001b[38;5;241m.\u001b[39miloc[\u001b[38;5;241m0\u001b[39m]\n\u001b[1;32m  11551\u001b[0m \u001b[38;5;28;01mif\u001b[39;00m out_dtype \u001b[38;5;129;01mis\u001b[39;00m \u001b[38;5;129;01mnot\u001b[39;00m \u001b[38;5;28;01mNone\u001b[39;00m \u001b[38;5;129;01mand\u001b[39;00m out\u001b[38;5;241m.\u001b[39mdtype \u001b[38;5;241m!=\u001b[39m \u001b[38;5;124m\"\u001b[39m\u001b[38;5;124mboolean\u001b[39m\u001b[38;5;124m\"\u001b[39m:\n",
      "File \u001b[0;32m~/miniconda3/envs/forecaster/lib/python3.12/site-packages/pandas/core/internals/managers.py:1500\u001b[0m, in \u001b[0;36mBlockManager.reduce\u001b[0;34m(self, func)\u001b[0m\n\u001b[1;32m   1498\u001b[0m res_blocks: \u001b[38;5;28mlist\u001b[39m[Block] \u001b[38;5;241m=\u001b[39m []\n\u001b[1;32m   1499\u001b[0m \u001b[38;5;28;01mfor\u001b[39;00m blk \u001b[38;5;129;01min\u001b[39;00m \u001b[38;5;28mself\u001b[39m\u001b[38;5;241m.\u001b[39mblocks:\n\u001b[0;32m-> 1500\u001b[0m     nbs \u001b[38;5;241m=\u001b[39m \u001b[43mblk\u001b[49m\u001b[38;5;241;43m.\u001b[39;49m\u001b[43mreduce\u001b[49m\u001b[43m(\u001b[49m\u001b[43mfunc\u001b[49m\u001b[43m)\u001b[49m\n\u001b[1;32m   1501\u001b[0m     res_blocks\u001b[38;5;241m.\u001b[39mextend(nbs)\n\u001b[1;32m   1503\u001b[0m index \u001b[38;5;241m=\u001b[39m Index([\u001b[38;5;28;01mNone\u001b[39;00m])  \u001b[38;5;66;03m# placeholder\u001b[39;00m\n",
      "File \u001b[0;32m~/miniconda3/envs/forecaster/lib/python3.12/site-packages/pandas/core/internals/blocks.py:404\u001b[0m, in \u001b[0;36mBlock.reduce\u001b[0;34m(self, func)\u001b[0m\n\u001b[1;32m    398\u001b[0m \u001b[38;5;129m@final\u001b[39m\n\u001b[1;32m    399\u001b[0m \u001b[38;5;28;01mdef\u001b[39;00m \u001b[38;5;21mreduce\u001b[39m(\u001b[38;5;28mself\u001b[39m, func) \u001b[38;5;241m-\u001b[39m\u001b[38;5;241m>\u001b[39m \u001b[38;5;28mlist\u001b[39m[Block]:\n\u001b[1;32m    400\u001b[0m     \u001b[38;5;66;03m# We will apply the function and reshape the result into a single-row\u001b[39;00m\n\u001b[1;32m    401\u001b[0m     \u001b[38;5;66;03m#  Block with the same mgr_locs; squeezing will be done at a higher level\u001b[39;00m\n\u001b[1;32m    402\u001b[0m     \u001b[38;5;28;01massert\u001b[39;00m \u001b[38;5;28mself\u001b[39m\u001b[38;5;241m.\u001b[39mndim \u001b[38;5;241m==\u001b[39m \u001b[38;5;241m2\u001b[39m\n\u001b[0;32m--> 404\u001b[0m     result \u001b[38;5;241m=\u001b[39m \u001b[43mfunc\u001b[49m\u001b[43m(\u001b[49m\u001b[38;5;28;43mself\u001b[39;49m\u001b[38;5;241;43m.\u001b[39;49m\u001b[43mvalues\u001b[49m\u001b[43m)\u001b[49m\n\u001b[1;32m    406\u001b[0m     \u001b[38;5;28;01mif\u001b[39;00m \u001b[38;5;28mself\u001b[39m\u001b[38;5;241m.\u001b[39mvalues\u001b[38;5;241m.\u001b[39mndim \u001b[38;5;241m==\u001b[39m \u001b[38;5;241m1\u001b[39m:\n\u001b[1;32m    407\u001b[0m         res_values \u001b[38;5;241m=\u001b[39m result\n",
      "File \u001b[0;32m~/miniconda3/envs/forecaster/lib/python3.12/site-packages/pandas/core/frame.py:11450\u001b[0m, in \u001b[0;36mDataFrame._reduce.<locals>.blk_func\u001b[0;34m(values, axis)\u001b[0m\n\u001b[1;32m  11446\u001b[0m \u001b[38;5;28;01mif\u001b[39;00m \u001b[38;5;28misinstance\u001b[39m(values, ExtensionArray):\n\u001b[1;32m  11447\u001b[0m     \u001b[38;5;28;01mif\u001b[39;00m \u001b[38;5;129;01mnot\u001b[39;00m is_1d_only_ea_dtype(values\u001b[38;5;241m.\u001b[39mdtype) \u001b[38;5;129;01mand\u001b[39;00m \u001b[38;5;129;01mnot\u001b[39;00m \u001b[38;5;28misinstance\u001b[39m(\n\u001b[1;32m  11448\u001b[0m         \u001b[38;5;28mself\u001b[39m\u001b[38;5;241m.\u001b[39m_mgr, ArrayManager\n\u001b[1;32m  11449\u001b[0m     ):\n\u001b[0;32m> 11450\u001b[0m         \u001b[38;5;28;01mreturn\u001b[39;00m \u001b[43mvalues\u001b[49m\u001b[38;5;241;43m.\u001b[39;49m\u001b[43m_reduce\u001b[49m\u001b[43m(\u001b[49m\u001b[43mname\u001b[49m\u001b[43m,\u001b[49m\u001b[43m \u001b[49m\u001b[43maxis\u001b[49m\u001b[38;5;241;43m=\u001b[39;49m\u001b[38;5;241;43m1\u001b[39;49m\u001b[43m,\u001b[49m\u001b[43m \u001b[49m\u001b[43mskipna\u001b[49m\u001b[38;5;241;43m=\u001b[39;49m\u001b[43mskipna\u001b[49m\u001b[43m,\u001b[49m\u001b[43m \u001b[49m\u001b[38;5;241;43m*\u001b[39;49m\u001b[38;5;241;43m*\u001b[39;49m\u001b[43mkwds\u001b[49m\u001b[43m)\u001b[49m\n\u001b[1;32m  11451\u001b[0m     has_keepdims \u001b[38;5;241m=\u001b[39m dtype_has_keepdims\u001b[38;5;241m.\u001b[39mget(values\u001b[38;5;241m.\u001b[39mdtype)\n\u001b[1;32m  11452\u001b[0m     \u001b[38;5;28;01mif\u001b[39;00m has_keepdims \u001b[38;5;129;01mis\u001b[39;00m \u001b[38;5;28;01mNone\u001b[39;00m:\n",
      "File \u001b[0;32m~/miniconda3/envs/forecaster/lib/python3.12/site-packages/pandas/core/arrays/base.py:1951\u001b[0m, in \u001b[0;36mExtensionArray._reduce\u001b[0;34m(self, name, skipna, keepdims, **kwargs)\u001b[0m\n\u001b[1;32m   1949\u001b[0m meth \u001b[38;5;241m=\u001b[39m \u001b[38;5;28mgetattr\u001b[39m(\u001b[38;5;28mself\u001b[39m, name, \u001b[38;5;28;01mNone\u001b[39;00m)\n\u001b[1;32m   1950\u001b[0m \u001b[38;5;28;01mif\u001b[39;00m meth \u001b[38;5;129;01mis\u001b[39;00m \u001b[38;5;28;01mNone\u001b[39;00m:\n\u001b[0;32m-> 1951\u001b[0m     \u001b[38;5;28;01mraise\u001b[39;00m \u001b[38;5;167;01mTypeError\u001b[39;00m(\n\u001b[1;32m   1952\u001b[0m         \u001b[38;5;124mf\u001b[39m\u001b[38;5;124m\"\u001b[39m\u001b[38;5;124m'\u001b[39m\u001b[38;5;132;01m{\u001b[39;00m\u001b[38;5;28mtype\u001b[39m(\u001b[38;5;28mself\u001b[39m)\u001b[38;5;241m.\u001b[39m\u001b[38;5;18m__name__\u001b[39m\u001b[38;5;132;01m}\u001b[39;00m\u001b[38;5;124m'\u001b[39m\u001b[38;5;124m with dtype \u001b[39m\u001b[38;5;132;01m{\u001b[39;00m\u001b[38;5;28mself\u001b[39m\u001b[38;5;241m.\u001b[39mdtype\u001b[38;5;132;01m}\u001b[39;00m\u001b[38;5;124m \u001b[39m\u001b[38;5;124m\"\u001b[39m\n\u001b[1;32m   1953\u001b[0m         \u001b[38;5;124mf\u001b[39m\u001b[38;5;124m\"\u001b[39m\u001b[38;5;124mdoes not support reduction \u001b[39m\u001b[38;5;124m'\u001b[39m\u001b[38;5;132;01m{\u001b[39;00mname\u001b[38;5;132;01m}\u001b[39;00m\u001b[38;5;124m'\u001b[39m\u001b[38;5;124m\"\u001b[39m\n\u001b[1;32m   1954\u001b[0m     )\n\u001b[1;32m   1955\u001b[0m result \u001b[38;5;241m=\u001b[39m meth(skipna\u001b[38;5;241m=\u001b[39mskipna, \u001b[38;5;241m*\u001b[39m\u001b[38;5;241m*\u001b[39mkwargs)\n\u001b[1;32m   1956\u001b[0m \u001b[38;5;28;01mif\u001b[39;00m keepdims:\n",
      "\u001b[0;31mTypeError\u001b[0m: 'DatetimeArray' with dtype datetime64[ns] does not support reduction 'skew'"
     ]
    }
   ],
   "source": [
    "user_store_transactions_pdf.skew()\n"
   ]
  },
  {
   "cell_type": "markdown",
   "metadata": {
    "slideshow": {
     "slide_type": "subslide"
    }
   },
   "source": [
    "#### Boxplot\n",
    "- There are some problematic data points for these three variables in the sense of distribution.\n"
   ]
  },
  {
   "cell_type": "code",
   "execution_count": 18,
   "metadata": {
    "pycharm": {
     "name": "#%%\n"
    },
    "slideshow": {
     "slide_type": "fragment"
    }
   },
   "outputs": [
    {
     "ename": "IndexError",
     "evalue": "index 3 is out of bounds for axis 0 with size 3",
     "output_type": "error",
     "traceback": [
      "\u001b[0;31m---------------------------------------------------------------------------\u001b[0m",
      "\u001b[0;31mIndexError\u001b[0m                                Traceback (most recent call last)",
      "Cell \u001b[0;32mIn[18], line 5\u001b[0m\n\u001b[1;32m      2\u001b[0m fig\u001b[38;5;241m.\u001b[39msuptitle(\u001b[38;5;124m\"\u001b[39m\u001b[38;5;124mBoxplot - Numerical Variable\u001b[39m\u001b[38;5;124m\"\u001b[39m)\n\u001b[1;32m      4\u001b[0m \u001b[38;5;28;01mfor\u001b[39;00m idx, column \u001b[38;5;129;01min\u001b[39;00m \u001b[38;5;28menumerate\u001b[39m(numerical_cols \u001b[38;5;241m+\u001b[39m [target_col]):\n\u001b[0;32m----> 5\u001b[0m     sns\u001b[38;5;241m.\u001b[39mboxplot(ax\u001b[38;5;241m=\u001b[39m\u001b[43maxes\u001b[49m\u001b[43m[\u001b[49m\u001b[43midx\u001b[49m\u001b[43m]\u001b[49m, x\u001b[38;5;241m=\u001b[39mcolumn, data\u001b[38;5;241m=\u001b[39muser_store_transactions_pdf)\n\u001b[1;32m      6\u001b[0m     axes[idx]\u001b[38;5;241m.\u001b[39mset_title(column\u001b[38;5;241m.\u001b[39mreplace(\u001b[38;5;124m\"\u001b[39m\u001b[38;5;124m_\u001b[39m\u001b[38;5;124m\"\u001b[39m, \u001b[38;5;124m\"\u001b[39m\u001b[38;5;124m \u001b[39m\u001b[38;5;124m\"\u001b[39m)\u001b[38;5;241m.\u001b[39mcapitalize())\n",
      "\u001b[0;31mIndexError\u001b[0m: index 3 is out of bounds for axis 0 with size 3"
     ]
    },
    {
     "data": {
      "image/png": "[encoded data removed]",
      "text/plain": [
       "<Figure size 1500x800 with 3 Axes>"
      ]
     },
     "metadata": {},
     "output_type": "display_data"
    }
   ],
   "source": [
    "fig, axes = plt.subplots(1, 3, figsize=(15, 8))\n",
    "fig.suptitle(\"Boxplot - Numerical Variable\")\n",
    "\n",
    "for idx, column in enumerate(numerical_cols + [target_col]):\n",
    "    sns.boxplot(ax=axes[idx], x=column, data=user_store_transactions_pdf)\n",
    "    axes[idx].set_title(column.replace(\"_\", \" \").capitalize())\n"
   ]
  },
  {
   "cell_type": "markdown",
   "metadata": {
    "slideshow": {
     "slide_type": "slide"
    }
   },
   "source": [
    "## Exploratory Data Analysis"
   ]
  },
  {
   "cell_type": "markdown",
   "metadata": {
    "slideshow": {
     "slide_type": "subslide"
    }
   },
   "source": [
    "### Barplot - `Category`\n",
    "- There are four countries - UK, France, Ireland, Germany\n",
    "- The left panel shows that the total number of examples in UK is the largest.\n",
    "- The right panel shows the average preparation times in Ireland and UK are larger than the other two countries\n",
    "    - The one in UK is larger than the rest of two countries significantly (shorter standard error)"
   ]
  },
  {
   "cell_type": "code",
   "execution_count": null,
   "metadata": {
    "pycharm": {
     "name": "#%%\n"
    },
    "slideshow": {
     "slide_type": "fragment"
    }
   },
   "outputs": [
    {
     "ename": "",
     "evalue": "",
     "output_type": "error",
     "traceback": [
      "\u001b[1;31mRunning cells with 'forecaster' requires the ipykernel package.\n",
      "\u001b[1;31mRun the following command to install 'ipykernel' into the Python environment. \n",
      "\u001b[1;31mCommand: 'conda install -n forecaster ipykernel --update-deps --force-reinstall'"
     ]
    }
   ],
   "source": [
    "threshold = int(user_store_transactions_pdf.shape[0] * 0.005)\n",
    "create_bar_plot(user_store_transactions_pdf, \"category\", target_col, threshold)\n"
   ]
  },
  {
   "cell_type": "markdown",
   "metadata": {
    "slideshow": {
     "slide_type": "subslide"
    }
   },
   "source": [
    "### Barplot -  `City`\n",
    "- There are 22 cities, but only 9 cities are with enough sample size (shown in the left panel)\n",
    "    - Assume the threshold is 161 (99.5% examples)\n",
    "    - The first six cities, except Paris, are in UK.\n",
    "- In the right panel, regarding of the top nine cities, we can see the preparation time in Paris or Berlin is smaller others."
   ]
  },
  {
   "cell_type": "code",
   "execution_count": null,
   "metadata": {
    "pycharm": {
     "name": "#%%\n"
    },
    "slideshow": {
     "slide_type": "fragment"
    }
   },
   "outputs": [
    {
     "ename": "",
     "evalue": "",
     "output_type": "error",
     "traceback": [
      "\u001b[1;31mRunning cells with 'forecaster' requires the ipykernel package.\n",
      "\u001b[1;31mRun the following command to install 'ipykernel' into the Python environment. \n",
      "\u001b[1;31mCommand: 'conda install -n forecaster ipykernel --update-deps --force-reinstall'"
     ]
    }
   ],
   "source": [
    "plt.figure(figsize=(15, 10))\n",
    "create_bar_plot(raw_pdf, \"city\", target_col, threshold)\n"
   ]
  },
  {
   "cell_type": "markdown",
   "metadata": {
    "slideshow": {
     "slide_type": "subslide"
    }
   },
   "source": [
    "### Barplot -  `Type of food`\n",
    "- There are 83 types, but only 30 types are with enough sample size (shown in the left panel)\n",
    "    - Assume the threshold is 161 (99.5% examples)\n",
    "    - The first three are `italian`, `burgers`, `thai`\n",
    "- In the right panel, for the first 30 types, `dessert`'s preparation time is smaller"
   ]
  },
  {
   "cell_type": "code",
   "execution_count": null,
   "metadata": {
    "pycharm": {
     "name": "#%%\n"
    },
    "slideshow": {
     "slide_type": "fragment"
    }
   },
   "outputs": [
    {
     "ename": "",
     "evalue": "",
     "output_type": "error",
     "traceback": [
      "\u001b[1;31mRunning cells with 'forecaster' requires the ipykernel package.\n",
      "\u001b[1;31mRun the following command to install 'ipykernel' into the Python environment. \n",
      "\u001b[1;31mCommand: 'conda install -n forecaster ipykernel --update-deps --force-reinstall'"
     ]
    }
   ],
   "source": [
    "plt.figure(figsize=(15, 10))\n",
    "create_bar_plot(raw_pdf, \"type_of_food\", target_col, threshold)\n"
   ]
  },
  {
   "cell_type": "markdown",
   "metadata": {
    "slideshow": {
     "slide_type": "subslide"
    }
   },
   "source": [
    "### Bivariate Scatter Plot\n",
    "- The upper diagonal - scatter plot\n",
    "    - We can see there are few outliers on the three panels\n",
    "- The diagonal - density plot\n",
    "    - All three distributions are right-skewed\n",
    "- The lower diagnoal - 2D density plot\n",
    "    - It seems like the preparation time is not correlated to `number_of_items` and `order_value_gbp`"
   ]
  },
  {
   "cell_type": "code",
   "execution_count": null,
   "metadata": {
    "pycharm": {
     "name": "#%%\n"
    },
    "slideshow": {
     "slide_type": "fragment"
    }
   },
   "outputs": [
    {
     "ename": "",
     "evalue": "",
     "output_type": "error",
     "traceback": [
      "\u001b[1;31mRunning cells with 'forecaster' requires the ipykernel package.\n",
      "\u001b[1;31mRun the following command to install 'ipykernel' into the Python environment. \n",
      "\u001b[1;31mCommand: 'conda install -n forecaster ipykernel --update-deps --force-reinstall'"
     ]
    }
   ],
   "source": [
    "create_scatter_plot_matrix(\n",
    "    raw_pdf[numerical_cols + categorical_cols + [target_col]], categorical_cols[0]\n",
    ")\n"
   ]
  },
  {
   "cell_type": "markdown",
   "metadata": {
    "slideshow": {
     "slide_type": "subslide"
    }
   },
   "source": [
    "### Association Plot\n",
    "- Association statistic\n",
    "    - category-categorty: [Cramer's V](https://en.wikipedia.org/wiki/Cramér%27s_V)\n",
    "    - category-numeric: [Correlation ratio](https://en.wikipedia.org/wiki/Correlation_ratio)\n",
    "    - numeric-numeric: Pearson correlation\n",
    "- Conclusion\n",
    "    - The association between `country` and `city` is one. It implies that we may only use `country`\n",
    "    - For the target `pre_time_seconds`, most of asscioation is lower than 1%, instead of the one with `order_value_geb`"
   ]
  },
  {
   "cell_type": "code",
   "execution_count": null,
   "metadata": {
    "pycharm": {
     "name": "#%%\n"
    },
    "slideshow": {
     "slide_type": "fragment"
    }
   },
   "outputs": [
    {
     "ename": "",
     "evalue": "",
     "output_type": "error",
     "traceback": [
      "\u001b[1;31mRunning cells with 'forecaster' requires the ipykernel package.\n",
      "\u001b[1;31mRun the following command to install 'ipykernel' into the Python environment. \n",
      "\u001b[1;31mCommand: 'conda install -n forecaster ipykernel --update-deps --force-reinstall'"
     ]
    }
   ],
   "source": [
    "_ = associations(raw_pdf[numerical_cols + categorical_cols + [target_col]], fmt=\".1f\")\n"
   ]
  },
  {
   "cell_type": "markdown",
   "metadata": {
    "slideshow": {
     "slide_type": "slide"
    }
   },
   "source": [
    "## Feature Engineering\n",
    "- There are four steps\n",
    "    1. Transform the target\n",
    "      - solve the extreme right-skewed and outliers\n",
    "    2. Combine levels of a categorical variable - type of food\n",
    "      - solve too many small levels in the category\n",
    "    3. Create new temporal features\n",
    "    4. Label-encode categorical features"
   ]
  },
  {
   "cell_type": "markdown",
   "metadata": {
    "slideshow": {
     "slide_type": "subslide"
    }
   },
   "source": [
    "### Transformation\n",
    "- Apply the transformation - $\\log_{10}(\\cdot)$ to `prep_time_seconds`\n",
    "   "
   ]
  },
  {
   "cell_type": "code",
   "execution_count": null,
   "metadata": {
    "slideshow": {
     "slide_type": "skip"
    }
   },
   "outputs": [
    {
     "ename": "",
     "evalue": "",
     "output_type": "error",
     "traceback": [
      "\u001b[1;31mRunning cells with 'forecaster' requires the ipykernel package.\n",
      "\u001b[1;31mRun the following command to install 'ipykernel' into the Python environment. \n",
      "\u001b[1;31mCommand: 'conda install -n forecaster ipykernel --update-deps --force-reinstall'"
     ]
    }
   ],
   "source": [
    "raw_pdf[\"transformed_target\"] = np.log10(raw_pdf[target_col] + 1e-5)\n"
   ]
  },
  {
   "cell_type": "markdown",
   "metadata": {
    "slideshow": {
     "slide_type": "subslide"
    }
   },
   "source": [
    "#### Transformation - Scatter Plot Matrix\n",
    "- In the upper-diagonal panels, the outliers seems gone after transformation\n",
    "- The distribution of the new column is more symmetric (this would benefit some traditional regression methods)\n",
    "- The 2D density plots show that the patterns of countries are more clear than the original ones"
   ]
  },
  {
   "cell_type": "code",
   "execution_count": null,
   "metadata": {
    "pycharm": {
     "name": "#%%\n"
    },
    "slideshow": {
     "slide_type": "fragment"
    }
   },
   "outputs": [
    {
     "ename": "",
     "evalue": "",
     "output_type": "error",
     "traceback": [
      "\u001b[1;31mRunning cells with 'forecaster' requires the ipykernel package.\n",
      "\u001b[1;31mRun the following command to install 'ipykernel' into the Python environment. \n",
      "\u001b[1;31mCommand: 'conda install -n forecaster ipykernel --update-deps --force-reinstall'"
     ]
    }
   ],
   "source": [
    "create_scatter_plot_matrix(raw_pdf, categorical_cols[0])\n",
    "new_target_col = \"transformed_target\"\n"
   ]
  },
  {
   "cell_type": "markdown",
   "metadata": {
    "slideshow": {
     "slide_type": "subslide"
    }
   },
   "source": [
    "#### Transformation - Association Matrix\n",
    "- The association between the transformed target and other feature is greater than the orignal pattern"
   ]
  },
  {
   "cell_type": "code",
   "execution_count": null,
   "metadata": {
    "pycharm": {
     "name": "#%%\n"
    },
    "slideshow": {
     "slide_type": "fragment"
    }
   },
   "outputs": [
    {
     "ename": "",
     "evalue": "",
     "output_type": "error",
     "traceback": [
      "\u001b[1;31mRunning cells with 'forecaster' requires the ipykernel package.\n",
      "\u001b[1;31mRun the following command to install 'ipykernel' into the Python environment. \n",
      "\u001b[1;31mCommand: 'conda install -n forecaster ipykernel --update-deps --force-reinstall'"
     ]
    }
   ],
   "source": [
    "_ = associations(\n",
    "    raw_pdf[numerical_cols + categorical_cols + [target_col, new_target_col]], fmt=\".1f\"\n",
    ")\n"
   ]
  },
  {
   "cell_type": "markdown",
   "metadata": {
    "slideshow": {
     "slide_type": "subslide"
    }
   },
   "source": [
    "### Combining Levels of `type of food`\n",
    "- Based on the previous EDA result, we will combine the levels with lower sample size as a new level `other`.\n",
    "   - The threshold is supposed to be 161\n",
    "- The number of the new levels are 31, shown in the panel with the new level `other`"
   ]
  },
  {
   "cell_type": "code",
   "execution_count": null,
   "metadata": {
    "slideshow": {
     "slide_type": "skip"
    }
   },
   "outputs": [
    {
     "ename": "",
     "evalue": "",
     "output_type": "error",
     "traceback": [
      "\u001b[1;31mRunning cells with 'forecaster' requires the ipykernel package.\n",
      "\u001b[1;31mRun the following command to install 'ipykernel' into the Python environment. \n",
      "\u001b[1;31mCommand: 'conda install -n forecaster ipykernel --update-deps --force-reinstall'"
     ]
    }
   ],
   "source": [
    "count_for_type_of_food = raw_pdf[\"type_of_food\"].value_counts()\n",
    "removed_levels = list(count_for_type_of_food[count_for_type_of_food <= threshold].index)\n",
    "raw_pdf[\"type_of_food\"] = raw_pdf[\"type_of_food\"].apply(\n",
    "    lambda x: x if x not in removed_levels else \"other\"\n",
    ")\n"
   ]
  },
  {
   "cell_type": "code",
   "execution_count": null,
   "metadata": {
    "pycharm": {
     "name": "#%%\n"
    },
    "slideshow": {
     "slide_type": "fragment"
    }
   },
   "outputs": [
    {
     "ename": "",
     "evalue": "",
     "output_type": "error",
     "traceback": [
      "\u001b[1;31mRunning cells with 'forecaster' requires the ipykernel package.\n",
      "\u001b[1;31mRun the following command to install 'ipykernel' into the Python environment. \n",
      "\u001b[1;31mCommand: 'conda install -n forecaster ipykernel --update-deps --force-reinstall'"
     ]
    }
   ],
   "source": [
    "plt.figure(figsize=(15, 10))\n",
    "create_bar_plot(raw_pdf, \"type_of_food\", target_col, threshold)\n"
   ]
  },
  {
   "cell_type": "markdown",
   "metadata": {
    "slideshow": {
     "slide_type": "subslide"
    }
   },
   "source": [
    "### New Features\n",
    "- Heurisic: what if rush hours/weekends will indirectly affect the prepartion time owning to the larger number of orders?\n",
    "- New feature candidates\n",
    "    - `acknowledged_hour`: event hour of `order_acknowledged_at`\n",
    "    - `ready_hour`: event hour of `order_ready_at`\n",
    "    - `is_weekend_for_order_acknowledged_at`: is weekend for `order_acknowledged_at`\n",
    "    - `is_weekend_for_order_ready_at`: is weekend for`order_ready_at`\n",
    "- Conclusion\n",
    "    - Based on the association matrix, we only pick `ready_hour` and `ready_weekday`"
   ]
  },
  {
   "cell_type": "code",
   "execution_count": null,
   "metadata": {
    "pycharm": {
     "name": "#%%\n"
    },
    "slideshow": {
     "slide_type": "skip"
    }
   },
   "outputs": [
    {
     "ename": "",
     "evalue": "",
     "output_type": "error",
     "traceback": [
      "\u001b[1;31mRunning cells with 'forecaster' requires the ipykernel package.\n",
      "\u001b[1;31mRun the following command to install 'ipykernel' into the Python environment. \n",
      "\u001b[1;31mCommand: 'conda install -n forecaster ipykernel --update-deps --force-reinstall'"
     ]
    }
   ],
   "source": [
    "raw_pdf[\"acknowledged_hour\"] = raw_pdf[\"order_acknowledged_at\"].apply(lambda x: x.hour)\n",
    "raw_pdf[\"ready_hour\"] = raw_pdf[\"order_ready_at\"].apply(lambda x: x.hour)\n",
    "raw_pdf[\"acknowledged_weekday\"] = raw_pdf[\"order_acknowledged_at\"].apply(lambda x: x.isoweekday())\n",
    "raw_pdf[\"is_weekend_for_order_acknowledged_at\"] = raw_pdf[\"order_acknowledged_at\"].apply(\n",
    "    lambda x: x.dayofweek > 4\n",
    ")\n",
    "raw_pdf[\"is_weekend_for_order_ready_at\"] = raw_pdf[\"order_ready_at\"].apply(\n",
    "    lambda x: x.dayofweek > 4\n",
    ")\n"
   ]
  },
  {
   "cell_type": "code",
   "execution_count": null,
   "metadata": {
    "pycharm": {
     "name": "#%%\n"
    },
    "slideshow": {
     "slide_type": "fragment"
    }
   },
   "outputs": [
    {
     "ename": "",
     "evalue": "",
     "output_type": "error",
     "traceback": [
      "\u001b[1;31mRunning cells with 'forecaster' requires the ipykernel package.\n",
      "\u001b[1;31mRun the following command to install 'ipykernel' into the Python environment. \n",
      "\u001b[1;31mCommand: 'conda install -n forecaster ipykernel --update-deps --force-reinstall'"
     ]
    }
   ],
   "source": [
    "_ = associations(\n",
    "    raw_pdf[\n",
    "        [\n",
    "            \"acknowledged_hour\",\n",
    "            \"ready_hour\",\n",
    "            \"is_weekend_for_order_acknowledged_at\",\n",
    "            \"is_weekend_for_order_ready_at\",\n",
    "        ]\n",
    "        + [new_target_col]\n",
    "    ],\n",
    "    fmt=\".1f\",\n",
    ")\n"
   ]
  },
  {
   "cell_type": "markdown",
   "metadata": {
    "slideshow": {
     "slide_type": "subslide"
    }
   },
   "source": [
    "### Label Encoding\n",
    "- We only deal with `country`, `type_of_food`, and `is_weekend_for_order_ready_at`\n",
    "- This would be used in the lightGBM model."
   ]
  },
  {
   "cell_type": "code",
   "execution_count": null,
   "metadata": {
    "slideshow": {
     "slide_type": "fragment"
    }
   },
   "outputs": [
    {
     "ename": "",
     "evalue": "",
     "output_type": "error",
     "traceback": [
      "\u001b[1;31mRunning cells with 'forecaster' requires the ipykernel package.\n",
      "\u001b[1;31mRun the following command to install 'ipykernel' into the Python environment. \n",
      "\u001b[1;31mCommand: 'conda install -n forecaster ipykernel --update-deps --force-reinstall'"
     ]
    }
   ],
   "source": [
    "categorical_cols.remove(\"city\")\n",
    "categorical_cols.append(\"is_weekend_for_order_ready_at\")\n",
    "\n",
    "le = LabelEncoder()\n",
    "\n",
    "for column in copy.deepcopy(categorical_cols):\n",
    "    raw_pdf[f\"{column}_label\"] = le.fit_transform(raw_pdf[column])\n",
    "    categorical_cols.append(f\"{column}_label\")\n",
    "    categorical_cols.remove(column)\n",
    "\n",
    "raw_pdf[categorical_cols].describe()\n"
   ]
  },
  {
   "cell_type": "markdown",
   "metadata": {
    "slideshow": {
     "slide_type": "subslide"
    }
   },
   "source": [
    "### Final features\n",
    "- Target: `transformed_target`\n",
    "- Features: `['order_value_gbp', 'number_of_items', 'is_weekend_for_order_ready_at_label', 'ready_hour', 'country_label', 'type_of_food_label']`"
   ]
  },
  {
   "cell_type": "code",
   "execution_count": null,
   "metadata": {
    "pycharm": {
     "name": "#%%\n"
    },
    "slideshow": {
     "slide_type": "fragment"
    }
   },
   "outputs": [
    {
     "ename": "",
     "evalue": "",
     "output_type": "error",
     "traceback": [
      "\u001b[1;31mRunning cells with 'forecaster' requires the ipykernel package.\n",
      "\u001b[1;31mRun the following command to install 'ipykernel' into the Python environment. \n",
      "\u001b[1;31mCommand: 'conda install -n forecaster ipykernel --update-deps --force-reinstall'"
     ]
    }
   ],
   "source": [
    "numerical_cols.append(\"ready_hour\")\n",
    "\n",
    "overall_features = numerical_cols + categorical_cols\n",
    "_ = associations(raw_pdf[overall_features + [new_target_col]], fmt=\".1f\")\n"
   ]
  },
  {
   "cell_type": "markdown",
   "metadata": {
    "slideshow": {
     "slide_type": "slide"
    }
   },
   "source": [
    "## Modeling\n",
    "- Step 1. Training data generation\n",
    "- Step 2. Train a lightGBM model based on training and validataion datasets\n",
    "- Step 3. Model evaluation"
   ]
  },
  {
   "cell_type": "markdown",
   "metadata": {
    "slideshow": {
     "slide_type": "subslide"
    }
   },
   "source": [
    "### Training data generation\n",
    "- We split data into `training set`, `validation set`, and `testing set` with testing rate and validation rate being 0.2.\n",
    "- Note\n",
    "    - The distribution of the target in these three sets are similar."
   ]
  },
  {
   "cell_type": "code",
   "execution_count": null,
   "metadata": {
    "pycharm": {
     "name": "#%%\n"
    },
    "slideshow": {
     "slide_type": "skip"
    }
   },
   "outputs": [
    {
     "ename": "",
     "evalue": "",
     "output_type": "error",
     "traceback": [
      "\u001b[1;31mRunning cells with 'forecaster' requires the ipykernel package.\n",
      "\u001b[1;31mRun the following command to install 'ipykernel' into the Python environment. \n",
      "\u001b[1;31mCommand: 'conda install -n forecaster ipykernel --update-deps --force-reinstall'"
     ]
    }
   ],
   "source": [
    "testing_rate = 0.2\n",
    "validation_rate = 0.2\n",
    "randome_seed = 1234\n",
    "\n",
    "X_train, X_test, y_train, y_test = train_test_split(\n",
    "    raw_pdf[overall_features],\n",
    "    raw_pdf[new_target_col],\n",
    "    test_size=testing_rate,\n",
    "    random_state=randome_seed,\n",
    ")\n",
    "X_train, X_val, y_train, y_val = train_test_split(\n",
    "    X_train, y_train, test_size=validation_rate, random_state=randome_seed\n",
    ")\n",
    "\n",
    "print(f\"The number of the training set: {X_train.shape[0]}\")\n",
    "print(f\"The number of the validation set: {X_val.shape[0]}\")\n",
    "print(f\"The number of the testing set: {X_test.shape[0]}\")\n"
   ]
  },
  {
   "cell_type": "code",
   "execution_count": null,
   "metadata": {
    "slideshow": {
     "slide_type": "subslide"
    }
   },
   "outputs": [
    {
     "ename": "",
     "evalue": "",
     "output_type": "error",
     "traceback": [
      "\u001b[1;31mRunning cells with 'forecaster' requires the ipykernel package.\n",
      "\u001b[1;31mRun the following command to install 'ipykernel' into the Python environment. \n",
      "\u001b[1;31mCommand: 'conda install -n forecaster ipykernel --update-deps --force-reinstall'"
     ]
    }
   ],
   "source": [
    "fig, axes = plt.subplots(1, 3, figsize=(20, 10))\n",
    "fig.suptitle(\"Distribution of the target in three datasets\")\n",
    "axes[0].set_title(f\"Training -  sample size {X_train.shape[0]}\")\n",
    "y_train.hist(ax=axes[0])\n",
    "axes[1].set_title(f\"Validation - sample size {X_val.shape[0]}\")\n",
    "y_val.hist(ax=axes[1])\n",
    "axes[2].set_title(f\"Testing -  sample size {X_test.shape[0]}\")\n",
    "y_test.hist(ax=axes[2])\n"
   ]
  },
  {
   "cell_type": "markdown",
   "metadata": {
    "slideshow": {
     "slide_type": "subslide"
    }
   },
   "source": [
    "### Model training\n",
    "- Model: light GBM\n",
    "   - can use categorical features directly (without one-hot or label encoding)\n",
    "- Loss function: mean absolute error $\\|y - \\hat{y}\\|_1$\n",
    "- [To-Do] Hyperparameter selection: 5-fold CV by `lgb.cv`"
   ]
  },
  {
   "cell_type": "code",
   "execution_count": null,
   "metadata": {
    "slideshow": {
     "slide_type": "skip"
    }
   },
   "outputs": [
    {
     "ename": "",
     "evalue": "",
     "output_type": "error",
     "traceback": [
      "\u001b[1;31mRunning cells with 'forecaster' requires the ipykernel package.\n",
      "\u001b[1;31mRun the following command to install 'ipykernel' into the Python environment. \n",
      "\u001b[1;31mCommand: 'conda install -n forecaster ipykernel --update-deps --force-reinstall'"
     ]
    }
   ],
   "source": [
    "# Generate light GBM datasets\n",
    "train_lgb = lgb.Dataset(\n",
    "    data=X_train,\n",
    "    label=y_train,\n",
    "    feature_name=list(X_train.columns),\n",
    "    categorical_feature=categorical_cols,\n",
    "    free_raw_data=False,\n",
    ")\n",
    "val_lgb = lgb.Dataset(\n",
    "    data=X_val,\n",
    "    label=y_val,\n",
    "    feature_name=list(X_val.columns),\n",
    "    categorical_feature=categorical_cols,\n",
    "    free_raw_data=False,\n",
    ")\n",
    "test_lgb = lgb.Dataset(\n",
    "    data=X_test,\n",
    "    label=y_test,\n",
    "    feature_name=list(X_test.columns),\n",
    "    categorical_feature=categorical_cols,\n",
    "    free_raw_data=False,\n",
    ")\n"
   ]
  },
  {
   "cell_type": "code",
   "execution_count": null,
   "metadata": {
    "slideshow": {
     "slide_type": "fragment"
    }
   },
   "outputs": [
    {
     "ename": "",
     "evalue": "",
     "output_type": "error",
     "traceback": [
      "\u001b[1;31mRunning cells with 'forecaster' requires the ipykernel package.\n",
      "\u001b[1;31mRun the following command to install 'ipykernel' into the Python environment. \n",
      "\u001b[1;31mCommand: 'conda install -n forecaster ipykernel --update-deps --force-reinstall'"
     ]
    }
   ],
   "source": [
    "parameters = {\n",
    "    \"num_leaves\": 10,\n",
    "    \"num_trees\": 50,\n",
    "    \"objective\": \"regression\",\n",
    "    \"metric\": \"mae\",\n",
    "}\n",
    "\n",
    "save_eval_results = {}\n",
    "model = lgb.train(\n",
    "    parameters,\n",
    "    train_lgb,\n",
    "    valid_sets=[train_lgb, val_lgb],\n",
    "    valid_names=[\"train\", \"validation\"],\n",
    "    evals_result=save_eval_results,\n",
    "    verbose_eval=5,\n",
    ")\n"
   ]
  },
  {
   "cell_type": "markdown",
   "metadata": {
    "slideshow": {
     "slide_type": "subslide"
    }
   },
   "source": [
    "### Model evaluation\n",
    "1. Plot validation MAE during training¶\n",
    "    - The training and validation losses are similar although it's overfitting a bit after the 20th iteration.\n",
    "2. The testing MAE is 0.29, which is similar to the validation loss. It implies that "
   ]
  },
  {
   "cell_type": "code",
   "execution_count": null,
   "metadata": {
    "slideshow": {
     "slide_type": "fragment"
    }
   },
   "outputs": [
    {
     "ename": "",
     "evalue": "",
     "output_type": "error",
     "traceback": [
      "\u001b[1;31mRunning cells with 'forecaster' requires the ipykernel package.\n",
      "\u001b[1;31mRun the following command to install 'ipykernel' into the Python environment. \n",
      "\u001b[1;31mCommand: 'conda install -n forecaster ipykernel --update-deps --force-reinstall'"
     ]
    }
   ],
   "source": [
    "# Validation\n",
    "lgb.plot_metric(save_eval_results)\n",
    "\n",
    "# Test\n",
    "ypred = model.predict(X_test)\n",
    "score = metrics.mean_absolute_error(y_test, ypred)\n",
    "print(f\"Test MAE: {score}\")\n"
   ]
  },
  {
   "cell_type": "markdown",
   "metadata": {
    "slideshow": {
     "slide_type": "subslide"
    }
   },
   "source": [
    "### Feature importance\n",
    "\n",
    "- The most two important features are `order_value_gdp` and `type_of_food` based on the trained model.\n",
    "- It is kind of strange that `ready_hour` is the third important feature but with near-zero association with the transformed target vairalbe.\n",
    "  - There probably exists some hidden correlation among features\n",
    "  \n",
    "- This would make sense since the larger order value of a meal may have longer prepration time, especially for fine dining."
   ]
  },
  {
   "cell_type": "code",
   "execution_count": null,
   "metadata": {
    "slideshow": {
     "slide_type": "fragment"
    }
   },
   "outputs": [
    {
     "ename": "",
     "evalue": "",
     "output_type": "error",
     "traceback": [
      "\u001b[1;31mRunning cells with 'forecaster' requires the ipykernel package.\n",
      "\u001b[1;31mRun the following command to install 'ipykernel' into the Python environment. \n",
      "\u001b[1;31mCommand: 'conda install -n forecaster ipykernel --update-deps --force-reinstall'"
     ]
    }
   ],
   "source": [
    "feature_imp = pd.DataFrame({\"Importance\": model.feature_importance(), \"Feature\": X_train.columns})\n",
    "plt.figure(figsize=(16, 8))\n",
    "sns.set(font_scale=2)\n",
    "sns.barplot(\n",
    "    x=\"Importance\",\n",
    "    y=\"Feature\",\n",
    "    data=feature_imp.sort_values(by=\"Importance\", ascending=False)[0:20],\n",
    ")\n",
    "plt.title(\"LightGBM  Importance\")\n",
    "plt.tight_layout()\n"
   ]
  },
  {
   "cell_type": "markdown",
   "metadata": {},
   "source": [
    "### Decision Tree\n",
    "- Since the trained model includes 50 trees, we can select few of them for marketing stratege\n",
    "- For example\n",
    " 1. The first panel:\n",
    "    - The first split is whether country is UK or not; then follow differnt nodes\n",
    " 2. The second panel:\n",
    "    - The root node is to see if the number of items is less than 4.5 or not; then go to the type of food.\n",
    "    "
   ]
  },
  {
   "cell_type": "code",
   "execution_count": null,
   "metadata": {},
   "outputs": [
    {
     "ename": "",
     "evalue": "",
     "output_type": "error",
     "traceback": [
      "\u001b[1;31mRunning cells with 'forecaster' requires the ipykernel package.\n",
      "\u001b[1;31mRun the following command to install 'ipykernel' into the Python environment. \n",
      "\u001b[1;31mCommand: 'conda install -n forecaster ipykernel --update-deps --force-reinstall'"
     ]
    }
   ],
   "source": [
    "lgb.plot_tree(model, tree_index=0, figsize=(64, 36), show_info=[\"split_gain\"])\n"
   ]
  },
  {
   "cell_type": "code",
   "execution_count": null,
   "metadata": {},
   "outputs": [
    {
     "ename": "",
     "evalue": "",
     "output_type": "error",
     "traceback": [
      "\u001b[1;31mRunning cells with 'forecaster' requires the ipykernel package.\n",
      "\u001b[1;31mRun the following command to install 'ipykernel' into the Python environment. \n",
      "\u001b[1;31mCommand: 'conda install -n forecaster ipykernel --update-deps --force-reinstall'"
     ]
    }
   ],
   "source": [
    "lgb.plot_tree(model, tree_index=49, figsize=(64, 36), show_info=[\"split_gain\"])\n"
   ]
  },
  {
   "cell_type": "markdown",
   "metadata": {
    "slideshow": {
     "slide_type": "slide"
    }
   },
   "source": [
    "## Future work\n"
   ]
  },
  {
   "cell_type": "markdown",
   "metadata": {
    "slideshow": {
     "slide_type": "subslide"
    }
   },
   "source": [
    "### I. Enlarge data pool\n",
    "- So far, we only have some pieces of order information and resturant information.\n",
    "- There are three perspective to enlarge the data pool to gain more informative buisness insight\n",
    " 1. Resturant semantic meaning\n",
    "    - Based on the menu and resturarnt description, we can train a model for text embeddings to represent the semantic structure among the resturants.\n",
    "       - This will mitigate the side effect when the types of food change\n",
    " 2. Geo-based features\n",
    "     - weather: rainfall, temperature\n",
    "     - resturant location\n",
    "     - city population\n",
    " 3. Temperoal faetures\n",
    "     - Since we only have data in June, there will be seasonal effects for the prepration time.\n",
    "     - We haven't checked the autocorrelation within the time series yet. We may create other hidden temporal dependency features into the model."
   ]
  },
  {
   "cell_type": "markdown",
   "metadata": {
    "slideshow": {
     "slide_type": "subslide"
    }
   },
   "source": [
    "### II. Model enhancement\n",
    "- Model tuning \n",
    "    - Use K-fold cross-validation to select the best hyperparameters (e.g. # of trees)\n",
    "- Model calibration\n",
    "    - Create another model as a baseline to compete the lightGBM model. It would more easier to see the weakeness of the current model and then have a reliable way to improve it.  \n",
    "- Residual analysis\n",
    "    - We haven't exaime the distribution of the residuals. This should be important for validating the model assumptions."
   ]
  },
  {
   "cell_type": "markdown",
   "metadata": {
    "slideshow": {
     "slide_type": "subslide"
    }
   },
   "source": [
    "### III. Model serving\n",
    "- We can save the model by `model.save_model(file_path)` to the object storage (e.g., S3)\n",
    "- Then, we can serving the model based on the BentoML framework\n",
    "    - i.e., we can input the features of each order to predict preparation time in short time via restful API"
   ]
  },
  {
   "cell_type": "markdown",
   "metadata": {
    "slideshow": {
     "slide_type": "subslide"
    }
   },
   "source": [
    "### IV. Causal inference\n",
    "- From the business perspecitve, having a better model for predicting prepration time do not imply we can make profit from it.\n",
    "- It would be better to find the real potential causes by the causal inference framework, such as Bayesian network.\n",
    "    - More specifically, if we would like to reduce preparation time as much as possible, we have to find the real causes for the preparation based on the likelihood.\n",
    "    - Sometimes, there will be propogation when the order has been delayed in a resturant."
   ]
  }
 ],
 "metadata": {
  "celltoolbar": "Slideshow",
  "kernelspec": {
   "display_name": "Python 3.9.12 ('base')",
   "language": "python",
   "name": "python3"
  },
  "language_info": {
   "codemirror_mode": {
    "name": "ipython",
    "version": 3
   },
   "file_extension": ".py",
   "mimetype": "text/x-python",
   "name": "python",
   "nbconvert_exporter": "python",
   "pygments_lexer": "ipython3",
   "version": "3.12.2"
  },
  "vscode": {
   "interpreter": {
    "hash": "8d6670f8b197e116bc907a84ebaddd8c3d4582a0003e9f0e6c1618df7d220b87"
   }
  }
 },
 "nbformat": 4,
 "nbformat_minor": 1
}
