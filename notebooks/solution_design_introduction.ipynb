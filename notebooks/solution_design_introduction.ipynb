{
 "cells": [
  {
   "cell_type": "markdown",
   "metadata": {
    "slideshow": {
     "slide_type": "slide"
    }
   },
   "source": [
    "# GMV Forecast Solution Introduction\n",
    "\n",
    "## Problem Transform\n",
    "- Transform the Forecast GMV time series in terms of users or daily sum by the following three steps:\n",
    "   1. Estimate the probability of user purchase at a store on a daily basis:\n",
    "      - For each user, build a binary classification (CTR-like) model to predict the probability of the user placing an order at each store in January 2022. Let's denote this probability as \\(P(\\text{Order}_{\\text{user, store}}| \\text{date})\\).\n",
    "   2. For forecasting, use the trained model to predict \\(P(\\text{Order}_{\\text{user, store}}| \\text{date})\\) for each user and store.\n",
    "   3. Calculate the expected GMV for each user by taking the weighted average of the GMV amounts at the predicted stores:\n",
    "     $$\n",
    "     \\hat{\\text{GMV}}_{\\text{user}, \\text{date}} = \\sum_{\\text{store}} \\hat{P}(\\text{Order}_{\\text{user, store}}| \\text{features}_\\text{date}) \\cdot \\hat{\\text{GMV}}_{\\text{store}}\n",
    "     $$\n",
    "   - We assume \\(\\hat{\\text{GMV}}_{\\text{store}}\\) can be estimated by averaging their previous transactions due to low variation (based on exploratory data analysis). Alternatively, it can be estimated using another ML algorithm.\n",
    "   - Context features \\(\\text{features}_\\text{date}\\) can be updated over time.\n",
    "\n",
    "- Main Forecast Problems:\n",
    "   - **User-Level Forecast in a Month:**\n",
    "      - For forecasting GMV for YayYay as a whole, aggregate the expected GMV amounts across all users.\n",
    "      - Mathematically:\n",
    "      $$\n",
    "      \\text{GMV}_{\\text{YayYay}}(\\text{user}) = \\sum_{\\text{date}}  \\hat{\\text{GMV}}_{\\text{user}, \\text{date}} \n",
    "      $$\n",
    "      where the sum is over all users.\n",
    "   - **YayYay-Level Daily Forecast in a Month:**\n",
    "      - For forecasting GMV for YayYay as a whole, aggregate the expected GMV amounts across all users.\n",
    "      - Mathematically:\n",
    "      $$\n",
    "      \\text{GMV}_{\\text{YayYay}}(\\text{date}) = \\sum_{\\text{user}}  \\hat{\\text{GMV}}_{\\text{user}, \\text{date}} \n",
    "      $$\n",
    "      where the sum is over all users.\n",
    "\n",
    "## Data Setup:\n",
    "1. **Label Definition:**\n",
    "   - The label is binary information indicating whether the user placed an order at a specific store in January 2022.\n",
    "   - Use negative sampling for negative examples with a globally random sampling strategy.\n",
    "\n",
    "2. **Features:**\n",
    "   - Utilize historical data features for each user and store, such as previous order history, user demographics, store characteristics, etc.\n",
    "   - Include context features, especially those describing the future time context for prediction.\n",
    "\n",
    "## Evaluation:\n",
    "- Assess the performance of CTR-like model using standard binary classification metrics (recall, ROC-AUC, etc.).\n",
    "- Evaluate the performance of GMV estimation using appropriate regression metrics (MAE, MSE, etc.).\n",
    "\n",
    "This approach leverages the predicted probabilities to estimate the expected GMV for each user and store, aggregating these estimates for YayYay as a whole. Adjust the model complexity and features based on the characteristics of data and business requirements.\n"
   ]
  }
 ],
 "metadata": {
  "celltoolbar": "Slideshow",
  "kernelspec": {
   "display_name": "Python 3.9.12 ('base')",
   "language": "python",
   "name": "python3"
  },
  "language_info": {
   "codemirror_mode": {
    "name": "ipython",
    "version": 3
   },
   "file_extension": ".py",
   "mimetype": "text/x-python",
   "name": "python",
   "nbconvert_exporter": "python",
   "pygments_lexer": "ipython3",
   "version": "3.12.2"
  },
  "vscode": {
   "interpreter": {
    "hash": "8d6670f8b197e116bc907a84ebaddd8c3d4582a0003e9f0e6c1618df7d220b87"
   }
  }
 },
 "nbformat": 4,
 "nbformat_minor": 1
}
